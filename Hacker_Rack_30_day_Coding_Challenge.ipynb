{
  "nbformat": 4,
  "nbformat_minor": 0,
  "metadata": {
    "colab": {
      "provenance": []
    },
    "kernelspec": {
      "name": "python3",
      "display_name": "Python 3"
    },
    "language_info": {
      "name": "python"
    }
  },
  "cells": [
    {
      "cell_type": "code",
      "source": [
        "#Day 0\n",
        "\n",
        "# Read a full line of input from stdin and save it to our dynamically typed variable, input_string.\n",
        "input_string = input()\n",
        "\n",
        "# Print a string literal saying \"Hello, World.\" to stdout.\n",
        "print('Hello, World.')\n",
        "\n",
        "# TODO: Write a line of code here that prints the contents of input_string to stdout.\n",
        "print(input_string)"
      ],
      "metadata": {
        "colab": {
          "base_uri": "https://localhost:8080/"
        },
        "id": "Ti1AAStGSvRr",
        "outputId": "5148e3cb-ea23-4ba3-e693-595fc7f97e25"
      },
      "execution_count": null,
      "outputs": [
        {
          "output_type": "stream",
          "name": "stdout",
          "text": [
            "hello\n",
            "Hello, World.\n",
            "hello\n"
          ]
        }
      ]
    },
    {
      "cell_type": "code",
      "source": [
        "#Day 1\n",
        "#Task - To print concatenation of the string, int and float dtypes.\n",
        "\n",
        "i = 4\n",
        "d = 4.0\n",
        "s = 'HackerRank '\n",
        "# Declare second integer, double, and String variables.\n",
        "ni = int(input())\n",
        "nd = float(input())\n",
        "ns = str(input())\n",
        "# Read and save an integer, double, and String to your variables.\n",
        "\n",
        "# Print the sum of both integer variables on a new line.\n",
        "print(i+ni)\n",
        "# Print the sum of the double variables on a new line.\n",
        "print(d+ nd)\n",
        "# Concatenate and print the String variables on a new line\n",
        "print(s+ ns)\n",
        "# The 's' variable above should be printed first."
      ],
      "metadata": {
        "id": "GD9zvcWVSzBi"
      },
      "execution_count": null,
      "outputs": []
    },
    {
      "cell_type": "code",
      "source": [
        "#Day 2\n",
        "#Task - To calculate the cost\n",
        "\n",
        "import math\n",
        "import os\n",
        "import random\n",
        "import re\n",
        "import sys\n",
        "\n",
        "#\n",
        "# Complete the 'solve' function below.\n",
        "#\n",
        "# The function accepts following parameters:\n",
        "#  1. DOUBLE meal_cost\n",
        "#  2. INTEGER tip_percent\n",
        "#  3. INTEGER tax_percent\n",
        "#\n",
        "\n",
        "def solve(meal_cost, tip_percent, tax_percent):\n",
        "\n",
        "    tip = meal_cost*tip_percent/100\n",
        "    tax = meal_cost*tax_percent/100\n",
        "    total_cost = (meal_cost+tip+tax)\n",
        "    print(round(total_cost))\n",
        "\n",
        "if __name__ == '__main__':\n",
        "    meal_cost = float(input().strip())\n",
        "\n",
        "    tip_percent = int(input().strip())\n",
        "\n",
        "    tax_percent = int(input().strip())\n",
        "\n",
        "    solve(meal_cost, tip_percent, tax_percent)\n"
      ],
      "metadata": {
        "id": "DTM4_qX2W6IP"
      },
      "execution_count": null,
      "outputs": []
    },
    {
      "cell_type": "code",
      "source": [
        "#Day 3\n",
        "#Task - To check if a number is odd or even. If even, 2 more cases to check and print results accordingly.\n",
        "import math\n",
        "import os\n",
        "import random\n",
        "import re\n",
        "import sys\n",
        "\n",
        "if __name__ == '__main__':\n",
        "    N = int(input().strip())\n",
        "    if (N%2!=0):\n",
        "        print(\"Weird\")\n",
        "    if (N%2==0):\n",
        "        if (2<=N<=5):\n",
        "            print(\"Not Weird\")\n",
        "        if (6<=N<=20):\n",
        "            print(\"Weird\")\n",
        "        if (N>20):\n",
        "            print(\"Not Weird\")"
      ],
      "metadata": {
        "colab": {
          "base_uri": "https://localhost:8080/"
        },
        "id": "MqlYhJwtXj6o",
        "outputId": "c4eed2ce-81a0-488c-dc54-49b069ea4d65"
      },
      "execution_count": null,
      "outputs": [
        {
          "output_type": "stream",
          "name": "stdout",
          "text": [
            "5\n",
            "Weird\n"
          ]
        }
      ]
    },
    {
      "cell_type": "code",
      "source": [
        "#Day 4\n",
        "#Task - To check the input age and print message according to the age. (Learn about class and instance)The age is increased by 3 and it is checked again\n",
        "\n",
        "class Person:\n",
        "    def __init__(self,initialAge):\n",
        "        # Add some more code to run some checks on initialAge\n",
        "        if initialAge<0:\n",
        "            self.age =0\n",
        "            print(\"Age is not valid, setting age to 0.\")\n",
        "        else:\n",
        "            self.age = initialAge\n",
        "    def amiold(self):\n",
        "        # Do some computations in here and print out the correct statement to the console\n",
        "        if (self.age<13):\n",
        "            print(\"You are young.\")\n",
        "        elif (13<=self.age<18):\n",
        "            print(\"You are a teenager.\")\n",
        "        else:\n",
        "            print(\"You are old.\")\n",
        "    def yearPasses(self):\n",
        "        # Increment the age of the person in here\n",
        "        self.age +=1\n",
        "\n",
        "t = int(input())\n",
        "for i in range(0, t):\n",
        "    age = int(input())\n",
        "    p = Person(age)\n",
        "    p.amiold()\n",
        "    for j in range(0, 3):\n",
        "        p.yearPasses()\n",
        "    p.amiold()\n",
        "    print(\"\")"
      ],
      "metadata": {
        "colab": {
          "base_uri": "https://localhost:8080/"
        },
        "id": "OS96zd5yX9wi",
        "outputId": "5fcb2348-ec58-4434-a469-4121ccc657cf"
      },
      "execution_count": null,
      "outputs": [
        {
          "output_type": "stream",
          "name": "stdout",
          "text": [
            "1\n",
            "16\n",
            "You are a teenager.\n",
            "You are old.\n",
            "\n"
          ]
        }
      ]
    },
    {
      "cell_type": "code",
      "source": [
        "#Day 5\n",
        "#Task - To print multiplication table upto 10 multiples of the input\n",
        "\n",
        "if __name__ == '__main__':\n",
        "    n = int(input().strip())\n",
        "    for i in range(1,11):\n",
        "        print(n, \"x\" ,i, \"=\" ,n*i)"
      ],
      "metadata": {
        "colab": {
          "base_uri": "https://localhost:8080/"
        },
        "id": "JeS2PPvYYkWU",
        "outputId": "83b1c155-47df-4924-db9d-5afe8ea3e566"
      },
      "execution_count": null,
      "outputs": [
        {
          "output_type": "stream",
          "name": "stdout",
          "text": [
            "11\n",
            "11 x 1 = 11\n",
            "11 x 2 = 22\n",
            "11 x 3 = 33\n",
            "11 x 4 = 44\n",
            "11 x 5 = 55\n",
            "11 x 6 = 66\n",
            "11 x 7 = 77\n",
            "11 x 8 = 88\n",
            "11 x 9 = 99\n",
            "11 x 10 = 110\n"
          ]
        }
      ]
    },
    {
      "cell_type": "code",
      "source": [
        "#Day 6\n",
        "#To print all the even indexed letters together and odd numbers together. eg - Hce akr, Rn ak\n",
        "T = int(input())\n",
        "for i in range (0 , T):\n",
        "    S = input()\n",
        "    print(S[0::2] + \" \" + S[1::2])"
      ],
      "metadata": {
        "id": "ksHOFnr8YuYy"
      },
      "execution_count": null,
      "outputs": []
    },
    {
      "cell_type": "code",
      "execution_count": null,
      "metadata": {
        "colab": {
          "base_uri": "https://localhost:8080/"
        },
        "id": "dVFam2GnsFsD",
        "outputId": "e4c215f7-12a7-4010-e5e8-7b7e11a65a26"
      },
      "outputs": [
        {
          "name": "stdout",
          "output_type": "stream",
          "text": [
            "2\n",
            "sam 99\n",
            "hello 44\n"
          ]
        }
      ],
      "source": [
        "#Day 8\n",
        "#Task - To make a dictionary having key and value from user input. serach for the key. if it exsists, print with phonenumber but without space.\n",
        "\n",
        "n = int(input())\n",
        "phoneBook = dict()\n",
        "\n",
        "# enter name and number by separate space\n",
        "for i in range(0, n):\n",
        "    name, number = input().split()\n",
        "    phoneBook[name] = number\n",
        "\n",
        "for i in range(0, n):\n",
        "    try:\n",
        "        name = input()\n",
        "        if name in phoneBook.keys():\n",
        "            print(f\"{name}={phoneBook[name]}\")\n",
        "        else:\n",
        "            print(\"Not found\")\n",
        "    except:\n",
        "        break"
      ]
    },
    {
      "cell_type": "markdown",
      "source": [
        "The below code is also of the right logic but shows runtime error. Hence to remove the runtime error, we use try and except method.\n",
        "```\n",
        "#  n = int(input())\n",
        "# phoneBook = {}\n",
        "# for i in range(n):\n",
        "#     name, num = input().split()\n",
        "#     phoneBook[name] = num\n",
        "# print(phoneBook)\n",
        "# for i in range(n):\n",
        "#     search_name = input()\n",
        "#     if search_name in phoneBook:\n",
        "#         print(str(search_name)+'='+str(phoneBook[search_name]))\n",
        "#     else:\n",
        "#       print (\"Not found\")\n",
        "```\n",
        "\n"
      ],
      "metadata": {
        "id": "kav2IQx_gECt"
      }
    },
    {
      "cell_type": "code",
      "source": [
        "#Day 9\n",
        "#Task - To find the factorial using recursion\n",
        "\n",
        "def factorial(n):\n",
        "    # Write your code\n",
        "    if (n == 1):\n",
        "      return n\n",
        "    else:\n",
        "      fact = (n*(factorial(n-1)))\n",
        "      return fact\n",
        "\n",
        "n = int(input().strip())\n",
        "result = factorial(n)\n",
        "print(result)\n"
      ],
      "metadata": {
        "colab": {
          "base_uri": "https://localhost:8080/"
        },
        "id": "1z-U8dpsxfeT",
        "outputId": "67f9b930-6866-452b-dfa0-2f146f582e26"
      },
      "execution_count": null,
      "outputs": [
        {
          "output_type": "stream",
          "name": "stdout",
          "text": [
            "1\n",
            "1\n"
          ]
        }
      ]
    },
    {
      "cell_type": "code",
      "source": [
        "# Day 10\n",
        "# Task - To print number of continuous 1s present in the binary number of given input number\n",
        "num = int(input())\n",
        "bin_num = []\n",
        "while num > 0:\n",
        "  reminder = num%2\n",
        "  num = num//2\n",
        "  bin_num.append(reminder)\n",
        "\n",
        "# print(bin_num)\n",
        "count,result = 0,0\n",
        "\n",
        "for i in range(len(bin_num)):\n",
        "  if (bin_num[i] == 0):\n",
        "    count = 0\n",
        "  else:\n",
        "    count = count + 1\n",
        "    result = max(count, result)\n",
        "print(result)"
      ],
      "metadata": {
        "id": "DvKpBRC3ga4G",
        "colab": {
          "base_uri": "https://localhost:8080/"
        },
        "outputId": "0cad2007-35f3-413f-dba8-dc0bef711f14"
      },
      "execution_count": null,
      "outputs": [
        {
          "output_type": "stream",
          "name": "stdout",
          "text": [
            "2\n",
            "[0, 1]\n",
            "1\n"
          ]
        }
      ]
    },
    {
      "cell_type": "code",
      "source": [
        "#Day 11\n",
        "#Task - To consider an hour glass shape from an array, find its sum and print the max hour glass sum\n",
        "arr = []\n",
        "max_sum = []\n",
        "for _ in range(6):\n",
        "  arr.append(list(map(int, input().split())))\n",
        "\n",
        "for i in range(6-2): #boundry condition\n",
        "  for j in range(6-2): #boundry condition\n",
        "    hour_glass_sum = arr[i][j] + arr[i][j+1] + arr[i][j+2] + \\\n",
        "     arr[i+1][j+1] + arr[i+2][j] + arr[i+2][j+1] + arr[i+2][j+2]\n",
        "\n",
        "    max_sum.append(hour_glass_sum)\n",
        "print(max(max_sum))"
      ],
      "metadata": {
        "id": "uurUTL2-w2M6"
      },
      "execution_count": null,
      "outputs": []
    },
    {
      "cell_type": "code",
      "source": [
        "#Day 12\n",
        "#Task - To check if the student passed his exam or failed using inhertiance\n",
        "class Person:\n",
        "\tdef __init__(self, firstName, lastName, idNumber):\n",
        "\t\tself.firstName = firstName\n",
        "\t\tself.lastName = lastName\n",
        "\t\tself.idNumber = idNumber\n",
        "\tdef printPerson(self):\n",
        "\t\tprint(\"Name:\", self.lastName + \",\", self.firstName)\n",
        "\t\tprint(\"ID:\", self.idNumber)\n",
        "\n",
        "class Student(Person):\n",
        "    #   Class Constructor\n",
        "    def __init__(self, firstName, lastName, idNumber,scores):\n",
        "        self.firstName = firstName\n",
        "        self.lastName = lastName\n",
        "        self.idNumber = idNumber\n",
        "        self.scores = scores\n",
        "    #   Parameters:\n",
        "    #   firstName - A string denoting the Person's first name.\n",
        "    #   lastName - A string denoting the Person's last name.\n",
        "    #   id - An integer denoting the Person's ID number.\n",
        "    #   scores - An array of integers denoting the Person's test scores.\n",
        "    #\n",
        "    # Write your constructor here\n",
        "\n",
        "    #   Function Name: calculate\n",
        "    #   Return: A character denoting the grade.\n",
        "    def calculate(self):\n",
        "        total = sum(self.scores)\n",
        "        average = total/len(self.scores)\n",
        "        if (90 <= average <= 100):\n",
        "            return ('O')\n",
        "        if (80 <= average < 90):\n",
        "            return ('E')\n",
        "        if (70 <= average < 80):\n",
        "            return ('A')\n",
        "        if (55 <= average < 70):\n",
        "            return ('P')\n",
        "        if (40 <= average < 55):\n",
        "            return ('D')\n",
        "        if (average < 40):\n",
        "            return ('T')\n",
        "\n",
        "line = input().split()\n",
        "firstName = line[0]\n",
        "lastName = line[1]\n",
        "idNum = line[2]\n",
        "numScores = int(input()) # not needed for Python\n",
        "scores = list( map(int, input().split()) )\n",
        "s = Student(firstName, lastName, idNum, scores)\n",
        "s.printPerson()\n",
        "print(\"Grade:\", s.calculate())"
      ],
      "metadata": {
        "colab": {
          "base_uri": "https://localhost:8080/"
        },
        "id": "RYyRD5Es1yno",
        "outputId": "4f5baf96-5e68-4d18-b945-a069ce5a6d1f"
      },
      "execution_count": null,
      "outputs": [
        {
          "output_type": "stream",
          "name": "stdout",
          "text": [
            "J K 9\n",
            "2\n",
            "100 80\n",
            "Name: K, J\n",
            "ID: 9\n",
            "Grade: O\n"
          ]
        }
      ]
    },
    {
      "cell_type": "code",
      "source": [
        "#Day 13\n",
        "#Using abstract class method, display the book info\n",
        "from abc import ABCMeta, abstractmethod\n",
        "class Book(object, metaclass=ABCMeta):\n",
        "    def __init__(self,title,author):\n",
        "        self.title=title\n",
        "        self.author=author\n",
        "    @abstractmethod\n",
        "    def display(): pass\n",
        "\n",
        "\n",
        "#Write MyBook class\n",
        "class MyBook:\n",
        "    def __init__(self, title, author, price):\n",
        "        self.title = title\n",
        "        self.author = author\n",
        "        self.price = price\n",
        "\n",
        "    def display(self):\n",
        "        print(\"Title:\",title)\n",
        "        print(\"Author:\", author)\n",
        "        print(\"Price:\", price)\n",
        "\n",
        "title=input()\n",
        "author=input()\n",
        "price=int(input())\n",
        "new_novel=MyBook(title,author,price)\n",
        "new_novel.display()"
      ],
      "metadata": {
        "id": "dGlluAGitDwO"
      },
      "execution_count": null,
      "outputs": []
    },
    {
      "cell_type": "code",
      "source": [
        "#Day 14\n",
        "# Task - Using scope check for max difference between a list of numbers\n",
        "class Difference:\n",
        "    def __init__(self, a):\n",
        "        self.__elements = a\n",
        "    # Add your code here\n",
        "    def computeDifference(self):\n",
        "      maxDiff = 0\n",
        "      a = self.__elements\n",
        "      for i in range(len(a)):\n",
        "        for j in range(i+1, len(a)):\n",
        "          if abs(a[i] - a[j]) > maxDiff:\n",
        "            maxDiff = abs(a[i]-a[j])\n",
        "      self.maximumDifference  = maxDiff\n",
        "\n",
        "\n",
        "# End of Difference class\n",
        "\n",
        "_ = input()\n",
        "a = [int(e) for e in input().split(' ')]\n",
        "\n",
        "d = Difference(a)\n",
        "d.computeDifference()\n",
        "print(d.maximumDifference)"
      ],
      "metadata": {
        "colab": {
          "base_uri": "https://localhost:8080/"
        },
        "id": "HiG0S33H4G1P",
        "outputId": "d0b25b5e-1bd3-4617-d030-f7bde7fb827a"
      },
      "execution_count": null,
      "outputs": [
        {
          "output_type": "stream",
          "name": "stdout",
          "text": [
            "3\n",
            "1 5 7\n",
            "6\n"
          ]
        }
      ]
    },
    {
      "cell_type": "code",
      "source": [
        "#Day 15\n",
        "#Task -"
      ],
      "metadata": {
        "id": "RO5_IdQTDA71"
      },
      "execution_count": null,
      "outputs": []
    },
    {
      "cell_type": "code",
      "source": [
        "#Day 16\n",
        "#Task - Throw an error if there is an error using exception handling concepts\n",
        "import sys\n",
        "S = input()\n",
        "try:\n",
        "  print(int(S))\n",
        "except ValueError:\n",
        "  print(\"Bad String\")"
      ],
      "metadata": {
        "colab": {
          "base_uri": "https://localhost:8080/"
        },
        "id": "B_VT0_Qet8p9",
        "outputId": "56d15cdc-a662-4ccc-8126-35e9f4de0e66"
      },
      "execution_count": null,
      "outputs": [
        {
          "output_type": "stream",
          "name": "stdout",
          "text": [
            "za\n",
            "Bad String\n"
          ]
        }
      ]
    },
    {
      "cell_type": "code",
      "source": [
        "#Day 17\n",
        "#Task - To raise an exception if the value of input is non-negative\n",
        "class Calculator:\n",
        "  def power(self,n,p):\n",
        "    if n<0 or p<0:\n",
        "      raise Exception(\"n and p should be non-negative\")\n",
        "    else:\n",
        "      return (n**p)\n",
        "\n",
        "myCalculator=Calculator()\n",
        "T=int(input())\n",
        "for i in range(T):\n",
        "    n,p = map(int, input().split())\n",
        "    try:\n",
        "        ans=myCalculator.power(n,p)\n",
        "        print(ans)\n",
        "    except Exception as e:\n",
        "        print(e)"
      ],
      "metadata": {
        "colab": {
          "base_uri": "https://localhost:8080/"
        },
        "id": "vD4HyuBaGCiC",
        "outputId": "dffc6e59-ba3d-45a3-8bce-c98d6977143b"
      },
      "execution_count": null,
      "outputs": [
        {
          "output_type": "stream",
          "name": "stdout",
          "text": [
            "1\n",
            "-3 -5\n",
            "n and p should be non-negative\n"
          ]
        }
      ]
    },
    {
      "cell_type": "code",
      "source": [
        "#Day 20\n",
        "#Sorting a list in ascending order and displaying the number of swaps\n",
        "\n",
        "import math\n",
        "import os\n",
        "import random\n",
        "import re\n",
        "import sys\n",
        "\n",
        "if __name__ == '__main__':\n",
        "    n = int(input().strip())\n",
        "\n",
        "    a = list(map(int, input().rstrip().split()))\n",
        "\n",
        "    # Write your code here\n",
        "    count = 0\n",
        "    for i in range(len(a)):\n",
        "        for j in range(i+1,len(a)):\n",
        "            if a[i]> a[j]:\n",
        "                temp = a[i]\n",
        "                a[i] = a[j]\n",
        "                a[j] = temp\n",
        "                count +=1\n",
        "    print(\"Array is sorted in\",count,\"swaps.\")\n",
        "    print(\"First Element:\", a[0])\n",
        "    print(\"Last Element:\", a[-1])"
      ],
      "metadata": {
        "id": "wtMCee6FT6pE",
        "colab": {
          "base_uri": "https://localhost:8080/"
        },
        "outputId": "8e82c48a-0955-467e-aab1-9746f9005bda"
      },
      "execution_count": null,
      "outputs": [
        {
          "output_type": "stream",
          "name": "stdout",
          "text": [
            "4\n",
            "89 50 35 70\n",
            "Array is sorted in 4 swaps.\n",
            "First Element: 35\n",
            "Last Element: 89\n"
          ]
        }
      ]
    },
    {
      "cell_type": "code",
      "source": [
        "#Day 25\n",
        "#Task to identify the prime number with time complexity of sqrt(O)\n",
        "n = int(input())\n",
        "a = []\n",
        "for i in range(n):\n",
        "    b = int(input())\n",
        "    a.append(b)\n",
        "for i in range(len(a)):\n",
        "  flag = 0\n",
        "  if a[i]> 1:\n",
        "    for j in range(2,round((a[i])**0.5)+1):\n",
        "      if a[i] % j == 0:\n",
        "        flag = 1\n",
        "        break\n",
        "      else:\n",
        "        continue\n",
        "  else:\n",
        "    flag = 1\n",
        "\n",
        "  if (flag == 1):\n",
        "    print('Not prime')\n",
        "  else:\n",
        "    print(\"Prime\")"
      ],
      "metadata": {
        "colab": {
          "base_uri": "https://localhost:8080/"
        },
        "id": "KqYiwvWU1IzJ",
        "outputId": "0c281cea-a7a9-4a91-ccbc-242a33e56814"
      },
      "execution_count": null,
      "outputs": [
        {
          "output_type": "stream",
          "name": "stdout",
          "text": [
            "3\n",
            "1\n",
            "4\n",
            "7\n",
            "Not prime\n",
            "Not prime\n",
            "Prime\n"
          ]
        }
      ]
    },
    {
      "cell_type": "code",
      "source": [],
      "metadata": {
        "id": "Q-KzbC0uf__g"
      },
      "execution_count": null,
      "outputs": []
    },
    {
      "cell_type": "code",
      "source": [
        "# Enter your code here. Read input from STDIN. Print output to STDOUT\n",
        "n = int(input())\n",
        "num_list = list(map(int, input().split(\" \")))\n",
        "avg = sum(num_list)/len(num_list)\n",
        "print(\"%.1f\" % avg)\n",
        "\n",
        "sort_list = sorted(num_list)\n",
        "if (len(sort_list)%2 == 0):\n",
        "    i = int(len(sort_list)/2)\n",
        "    a = sort_list[i]\n",
        "    b = sort_list[i-1]\n",
        "    median = (a+b)/2\n",
        "    print(\"%.1f\" % median)\n",
        "else:\n",
        "    i = int(len(sort_list)/2)\n",
        "    print(sort_list[i])\n",
        "\n",
        "mode = max(sort_list, key = sort_list.count)\n",
        "# m = {}\n",
        "# number = 0\n",
        "# for i in (sort_list):\n",
        "#   m.setdefault(number,0)\n",
        "#   m[number]+=1\n",
        "print(mode)"
      ],
      "metadata": {
        "id": "b6OEtIVK6qXg",
        "colab": {
          "base_uri": "https://localhost:8080/"
        },
        "outputId": "d965d3c3-db01-4f91-d5cf-68563a2652be"
      },
      "execution_count": null,
      "outputs": [
        {
          "output_type": "stream",
          "name": "stdout",
          "text": [
            "4\n",
            "1 2 3 4\n",
            "2.5\n",
            "2.5\n",
            "1\n"
          ]
        }
      ]
    },
    {
      "cell_type": "code",
      "source": [
        "def minimum_index(seq):\n",
        "    if len(seq) == 0:\n",
        "        raise ValueError(\"Cannot get the minimum value index from an empty sequence\")\n",
        "    min_idx = 0\n",
        "    for i in range(1, len(seq)):\n",
        "        if seq[i] < seq[min_idx]:\n",
        "            min_idx = i\n",
        "    return min_idx\n",
        "\n",
        "class TestDataEmptyArray(object):\n",
        "\n",
        "  # @staticmethod\n",
        "  def get_array():\n",
        "    return ()\n",
        "\n",
        "def TestWithEmptyArray():\n",
        "    try:\n",
        "        seq = TestDataEmptyArray.get_array()\n",
        "        result = minimum_index(seq)\n",
        "    except ValueError as e:\n",
        "        pass\n",
        "    else:\n",
        "        assert False\n",
        "\n",
        "TestWithEmptyArray()\n",
        "# TestWithUniqueValues()\n",
        "# TestiWithExactyTwoDifferentMinimums()\n",
        "print(\"OK\")\n"
      ],
      "metadata": {
        "colab": {
          "base_uri": "https://localhost:8080/"
        },
        "id": "jxak5gJgIA80",
        "outputId": "529016d1-cbf5-4353-9ff1-9e3a041fcff8"
      },
      "execution_count": null,
      "outputs": [
        {
          "output_type": "stream",
          "name": "stdout",
          "text": [
            "OK\n"
          ]
        }
      ]
    },
    {
      "cell_type": "code",
      "source": [
        "#!/bin/python3\n",
        "\n",
        "import math\n",
        "import os\n",
        "import random\n",
        "import re\n",
        "import sys\n",
        "\n",
        "def weightedMean(X, W):\n",
        "    # Write your code here\n",
        "    nume = []\n",
        "    for i in range(len(X)):\n",
        "      n = X[i]*W[i]\n",
        "      nume.append(n)\n",
        "    nu = sum(nume)\n",
        "    du = sum(W)\n",
        "    print(du)\n",
        "    print(nu)\n",
        "    print(nu/du)\n",
        "\n",
        "if __name__ == '__main__':\n",
        "    n = int(input().strip())\n",
        "\n",
        "    vals = list(map(int, input().rstrip().split()))\n",
        "\n",
        "    weights = list(map(int, input().rstrip().split()))\n",
        "\n",
        "    weightedMean(vals, weights)\n"
      ],
      "metadata": {
        "colab": {
          "base_uri": "https://localhost:8080/"
        },
        "id": "m3BsMeg-IBj-",
        "outputId": "a08e5655-f435-490f-9295-5907890ac5a0"
      },
      "execution_count": null,
      "outputs": [
        {
          "output_type": "stream",
          "name": "stdout",
          "text": [
            "5\n",
            "10 20 30 40 50\n",
            "1 2 3 4 5\n",
            "15\n",
            "550\n",
            "36.666666666666664\n"
          ]
        }
      ]
    },
    {
      "cell_type": "code",
      "source": [
        "#!/bin/python3\n",
        "\n",
        "import math\n",
        "import os\n",
        "import random\n",
        "import re\n",
        "import sys\n",
        "from math import ceil\n",
        "\n",
        "#\n",
        "# Complete the 'quartiles' function below.\n",
        "#\n",
        "# The function is expected to return an INTEGER_ARRAY.\n",
        "# The function accepts INTEGER_ARRAY arr as parameter.\n",
        "#\n",
        "\n",
        "def quartiles(arr):\n",
        "    # Write your code here\n",
        "    arr = sorted(arr)\n",
        "    if (len(arr)%2!=0):\n",
        "        mid = int(len(arr)/2)\n",
        "        lsum = 0\n",
        "        usum = 0\n",
        "        for i in range(0, mid):\n",
        "            lsum += arr[i]\n",
        "        for j in range(mid+1, len(arr)):\n",
        "            usum+=arr[j]\n",
        "        lavg = round(lsum/mid)\n",
        "        uavg = round(usum/mid)\n",
        "        print(arr)\n",
        "        print(lavg)\n",
        "        print(arr[mid])\n",
        "        print(uavg)\n",
        "    else:\n",
        "        lsum = 0\n",
        "        msum = 0\n",
        "        usum =0\n",
        "        mid = int(len(arr)/2)\n",
        "        for i in range(0,mid):\n",
        "            lsum += arr[i]\n",
        "        for k in range(mid, len(arr)):\n",
        "            usum += arr[k]\n",
        "        msum = arr[mid-1]+arr[mid]\n",
        "        lavg = round(lsum/mid)\n",
        "        uavg = round(usum/mid)\n",
        "        mavg = round(msum/2)\n",
        "        print(lavg)\n",
        "        print(mavg)\n",
        "        print(uavg)\n",
        "        print(msum)\n",
        "\n",
        "\n",
        "\n",
        "\n",
        "\n",
        "if __name__ == '__main__':\n",
        "    # fptr = open(os.environ['OUTPUT_PATH'], 'w')\n",
        "\n",
        "    n = int(input().strip())\n",
        "\n",
        "    data = list(map(int, input().rstrip().split()))\n",
        "\n",
        "    res = quartiles(data)\n",
        "\n",
        "    # fptr.write('\\n'.join(map(str, res)))\n",
        "    # fptr.write('\\n')\n",
        "\"\"\n",
        "    # fptr.close()\n"
      ],
      "metadata": {
        "colab": {
          "base_uri": "https://localhost:8080/",
          "height": 140
        },
        "id": "SG438nfkPgZ0",
        "outputId": "d4b021cd-49fb-48bc-cb26-2631f1a8abb0"
      },
      "execution_count": null,
      "outputs": [
        {
          "output_type": "stream",
          "name": "stdout",
          "text": [
            "4\n",
            "1 3 5 7\n",
            "2\n",
            "4\n",
            "6\n",
            "8\n"
          ]
        },
        {
          "output_type": "execute_result",
          "data": {
            "text/plain": [
              "''"
            ],
            "application/vnd.google.colaboratory.intrinsic+json": {
              "type": "string"
            }
          },
          "metadata": {},
          "execution_count": 22
        }
      ]
    },
    {
      "cell_type": "code",
      "source": [
        "\n"
      ],
      "metadata": {
        "id": "XTaZWhfH1pd1"
      },
      "execution_count": null,
      "outputs": []
    },
    {
      "cell_type": "code",
      "source": [],
      "metadata": {
        "id": "7GyxDIB4PMl4",
        "colab": {
          "base_uri": "https://localhost:8080/"
        },
        "outputId": "f4540cbc-c224-4b4e-a9be-bf3d6199c565"
      },
      "execution_count": null,
      "outputs": [
        {
          "output_type": "stream",
          "name": "stdout",
          "text": [
            "500\n",
            "Time for recurse 0.008893489837646484\n"
          ]
        }
      ]
    },
    {
      "cell_type": "code",
      "source": [],
      "metadata": {
        "colab": {
          "base_uri": "https://localhost:8080/"
        },
        "id": "O2Tq4eL12b3I",
        "outputId": "cb31a229-5e71-45ba-b3a4-9b1b8c4b2016"
      },
      "execution_count": null,
      "outputs": [
        {
          "output_type": "stream",
          "name": "stdout",
          "text": [
            "Time for for loop 0.0003180503845214844\n"
          ]
        }
      ]
    },
    {
      "cell_type": "code",
      "source": [
        "import matplotlib.pyplot as plt\n",
        "from sklearn.datasets import fetch_lfw_people\n",
        "from sklearn.decomposition import PCA\n",
        "from PIL import Image\n",
        "import numpy as np\n",
        "\n",
        "def plot_faces(images, n_row=5, n_col=5):\n",
        "    plt.figure(figsize=(5,5))\n",
        "    plt.title(\"PCA of Faces\")\n",
        "    for i in range(n_row * n_col):\n",
        "        plt.subplot(n_row, n_col, i + 1)\n",
        "        plt.imshow(images[i].reshape((h, w)))\n",
        "    plt.tight_layout()\n",
        "    plt.show()\n",
        "\n",
        "# Load data\n",
        "lfw_dataset = fetch_lfw_people(min_faces_per_person=100, resize = 0.4)\n",
        "n_samples, h, w = lfw_dataset.images.shape\n",
        "X = lfw_dataset.data\n",
        "# Compute a PCA\n",
        "n_components = 100\n",
        "pca = PCA(n_components=n_components).fit(X)\n",
        "principal_components = pca.components_\n",
        "\n",
        "#Display\n",
        "plot_faces(principal_components)"
      ],
      "metadata": {
        "id": "IziGpL3ESjVV",
        "colab": {
          "base_uri": "https://localhost:8080/",
          "height": 369
        },
        "outputId": "c9aa048b-d472-42c1-cfbf-e9bab6a165cb"
      },
      "execution_count": null,
      "outputs": [
        {
          "output_type": "display_data",
          "data": {
            "text/plain": [
              "<Figure size 360x360 with 25 Axes>"
            ],
            "image/png": "[encoded data removed]"
          },
          "metadata": {
            "needs_background": "light"
          }
        }
      ]
    },
    {
      "cell_type": "code",
      "source": [],
      "metadata": {
        "id": "xyijpjJ7OGKE"
      },
      "execution_count": null,
      "outputs": []
    },
    {
      "cell_type": "code",
      "source": [],
      "metadata": {
        "colab": {
          "base_uri": "https://localhost:8080/",
          "height": 369
        },
        "id": "NuZR_ZW-OPJk",
        "outputId": "840ecb33-7b1b-4b53-dec5-f80c45e349bb"
      },
      "execution_count": null,
      "outputs": [
        {
          "output_type": "display_data",
          "data": {
            "text/plain": [
              "<Figure size 360x360 with 25 Axes>"
            ],
            "image/png": "[encoded data removed]"
          },
          "metadata": {
            "needs_background": "light"
          }
        }
      ]
    },
    {
      "cell_type": "code",
      "source": [],
      "metadata": {
        "id": "imC7RsHJPfVI"
      },
      "execution_count": null,
      "outputs": []
    },
    {
      "cell_type": "code",
      "source": [
        "import matplotlib.pyplot as plt\n",
        "from sklearn.datasets import fetch_lfw_people\n",
        "from sklearn.decomposition import PCA\n",
        "from PIL import Image\n",
        "import numpy as np\n",
        "\n",
        "# Load data\n",
        "lfw_dataset = fetch_lfw_people(min_faces_per_person=200, resize = 0.4)\n",
        "n_samples, h, w = lfw_dataset.images.shape\n",
        "X = lfw_dataset.data\n",
        "\n",
        "# Compute a PCA\n",
        "pca = PCA(n_components = 80).fit(X)\n",
        "principal_components = pca.components_\n",
        "image = Image.open(r\"/content/drive/MyDrive/Colab Notebooks/rajni.jpg\")\n",
        "im = np.array(image.resize((w,h)).convert('L'))\n",
        "im1 = im.reshape((1,h*w))\n",
        "z = pca.transform(im1)\n",
        "print(z.shape,im1.shape,principal_components.shape)\n",
        "reconstructed = np.dot(z,principal_components).reshape(h,w)\n",
        "\n",
        "#Display\n",
        "plt.imshow(reconstructed)\n",
        "plt.show()"
      ],
      "metadata": {
        "colab": {
          "base_uri": "https://localhost:8080/",
          "height": 284
        },
        "id": "IiA7br-mH1gJ",
        "outputId": "5e3d3e53-6968-4245-8f07-5cac1d87b042"
      },
      "execution_count": null,
      "outputs": [
        {
          "output_type": "stream",
          "name": "stdout",
          "text": [
            "(1, 80) (1, 1850) (80, 1850)\n"
          ]
        },
        {
          "output_type": "display_data",
          "data": {
            "text/plain": [
              "<Figure size 432x288 with 1 Axes>"
            ],
            "image/png": "[encoded data removed]"
          },
          "metadata": {
            "needs_background": "light"
          }
        }
      ]
    },
    {
      "cell_type": "code",
      "source": [],
      "metadata": {
        "id": "Eub5TSX9Itn-"
      },
      "execution_count": null,
      "outputs": []
    }
  ]
}